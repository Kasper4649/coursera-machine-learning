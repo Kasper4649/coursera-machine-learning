{
 "cells": [
  {
   "cell_type": "markdown",
   "metadata": {},
   "source": [
    "# Large Margin Classification"
   ]
  },
  {
   "cell_type": "markdown",
   "metadata": {},
   "source": [
    "## Optimization Objective"
   ]
  },
  {
   "cell_type": "markdown",
   "metadata": {},
   "source": [
    "![image.png](https://i.loli.net/2020/02/27/WDfU6TkXc1YGgsS.png)"
   ]
  },
  {
   "cell_type": "markdown",
   "metadata": {},
   "source": [
    "![image.png](https://i.loli.net/2020/02/27/7BK65V8mR4JqvhX.png)"
   ]
  },
  {
   "cell_type": "markdown",
   "metadata": {},
   "source": [
    "重新定义逻辑回归的代价函数\n",
    "1. 删去 1/m，常数项不影响 $\\Theta$ 取值。\n",
    "2. 令 $C = 1/\\lambda$，$A+\\lambda B$ 转换为 $CA+B$"
   ]
  },
  {
   "cell_type": "markdown",
   "metadata": {},
   "source": [
    "![image.png](https://i.loli.net/2020/02/27/I3YocQ2DGusCUew.png)"
   ]
  },
  {
   "cell_type": "markdown",
   "metadata": {},
   "source": [
    "## Large Margin Intuition"
   ]
  },
  {
   "cell_type": "markdown",
   "metadata": {},
   "source": [
    "![image.png](https://i.loli.net/2020/02/29/kBtrwxJRgLhlGZT.png)"
   ]
  },
  {
   "cell_type": "markdown",
   "metadata": {},
   "source": [
    "在支持向量机中嵌入了一个额外的安全因子或者说安全的间距因子。"
   ]
  },
  {
   "cell_type": "markdown",
   "metadata": {},
   "source": [
    "![image.png](https://i.loli.net/2020/02/29/3LDACsmcP9dM4qW.png)"
   ]
  },
  {
   "cell_type": "markdown",
   "metadata": {},
   "source": [
    "当 C 很大时，理想条件下 A = 0。则化简为 $\\min _{\\theta} \\frac{1}{2} \\sum_{i=1}^{n} \\theta_{j}^{2}\\left(\\theta^{T} x \\geq 1 \\text { if } y^{(i)}=1 ; \\quad \\theta^{T} x \\leq 1 \\text { if } y^{(i)}=0\\right)$"
   ]
  },
  {
   "cell_type": "markdown",
   "metadata": {},
   "source": [
    "![image.png](https://i.loli.net/2020/03/01/PpKyAnLdmju6fGg.png)"
   ]
  },
  {
   "cell_type": "markdown",
   "metadata": {},
   "source": [
    "支持向量机会选择黑色这一条决策边界。黑色这条边界相比之前跟正负样本有更大的距离，而这个距离就叫做间距。"
   ]
  },
  {
   "cell_type": "markdown",
   "metadata": {},
   "source": [
    "![image.png](https://i.loli.net/2020/02/29/Z9VWE2T8suigCNa.png)"
   ]
  },
  {
   "cell_type": "markdown",
   "metadata": {},
   "source": [
    "当 C 过大时，一个异常样本就会左右决策边界，如果把 C 的值设置得不那么大，支持向量机的成熟性就体现出来了，它并不会因为个别异常而改变其决策边界。"
   ]
  },
  {
   "cell_type": "markdown",
   "metadata": {},
   "source": [
    "## Mathematics Behind Large Margin Classification"
   ]
  },
  {
   "cell_type": "markdown",
   "metadata": {},
   "source": [
    "![image.png](https://i.loli.net/2020/02/29/ZaYl62kjdHAe4bq.png)"
   ]
  },
  {
   "cell_type": "markdown",
   "metadata": {},
   "source": [
    "简化 $n = 2, \\Theta_{0} = 0$，则 $\\min _{\\theta} \\frac{1}{2} \\sum_{i=1}^{n} \\theta_{j}^{2}=\\frac{1}{2}\\left(\\theta_{1}^{2}+\\theta_{2}^{2}\\right)=\\frac{1}{2}(\\sqrt{\\theta_{1}^{2}+\\theta_{2}^{2}})^{2}=\\frac{1}{2}\\|\\theta\\|^{2}$"
   ]
  },
  {
   "cell_type": "markdown",
   "metadata": {},
   "source": [
    "![](https://pic3.zhimg.com/80/v2-d1d4a4cdf51d29b2941be507fdda0866_hd.jpg)"
   ]
  },
  {
   "cell_type": "markdown",
   "metadata": {},
   "source": [
    "> 因为 $\\Theta$ 的斜率是 $\\frac{\\theta_{2}}{\\theta_{1}}$，决策边界表达式为 $\\Theta^{T}x=0$，即 $\\Theta_{1}x_{1}+\\Theta_{2}x_{2}=0$，斜率为 $-\\frac{\\theta_{1}}{\\theta_{2}}$，所以 $\\Theta$ 向量会垂直于决策边界。"
   ]
  },
  {
   "cell_type": "markdown",
   "metadata": {},
   "source": [
    "左图中 $p^{(i)}$ 都较小，导致 $\\|\\theta\\|$ 较大，而应使其较小，故决策边界不会选择该线。  \n",
    "右图中则相反，故能很好产生最大间距。"
   ]
  },
  {
   "cell_type": "markdown",
   "metadata": {},
   "source": [
    "# Kernels"
   ]
  },
  {
   "cell_type": "markdown",
   "metadata": {},
   "source": [
    "![image.png](https://i.loli.net/2020/02/29/kdJjvDs6Kg7XNBW.png)"
   ]
  },
  {
   "cell_type": "markdown",
   "metadata": {},
   "source": [
    "重新定义变量 $f_{1} = x_{1}, f_{2} = x_{2}, f_{3} = x_{2}x_{3}...。$   \n",
    "但是这样的高阶项作为特征变量并不是我们确定所需要的，而且运算量非常巨大。"
   ]
  },
  {
   "cell_type": "markdown",
   "metadata": {},
   "source": [
    "![image.png](https://i.loli.net/2020/03/01/7EgTROplkj1Lr9K.png)"
   ]
  },
  {
   "cell_type": "markdown",
   "metadata": {},
   "source": [
    "手动选择三个标记点 $l^{(1)}, l^{(2)}, l^{(3)}$，重新定义变量 $f_{1}, f_{2}, f_{3}$ 表示相似度，称为**核函数**。"
   ]
  },
  {
   "cell_type": "markdown",
   "metadata": {},
   "source": [
    "![image.png](https://i.loli.net/2020/02/29/1I2mExh83WyfrU4.png)"
   ]
  },
  {
   "cell_type": "markdown",
   "metadata": {},
   "source": [
    "当 $x$ 距离特征变量很近时，$f \\approx 0；$ \n",
    "当 $x$ 距离特征变量很远时，$f \\approx 1。$"
   ]
  },
  {
   "cell_type": "markdown",
   "metadata": {},
   "source": [
    "![image.png](https://i.loli.net/2020/02/29/fjlTWJqRksgoINQ.png)"
   ]
  },
  {
   "cell_type": "markdown",
   "metadata": {},
   "source": [
    "对于粉色点，距离 $l^{(1)}$ 很近，距离 $l^{(2)}, l^{(3)}$ 很远，则 $f_{1} \\approx 1, f_{2} \\approx 0, f_{3} \\approx 0$，求得表达式大于等于零，则 $y=1$。  \n",
    "对于蓝色点，距离 $l^{(1)}, l^{(2)}, l^{(3)}$ 很远，则 $f_{1} \\approx 0, f_{2} \\approx 0, f_{3} \\approx 0$，求得表达式小于零，则 $y=0$。"
   ]
  },
  {
   "cell_type": "markdown",
   "metadata": {},
   "source": [
    "![image.png](https://i.loli.net/2020/02/06/wjEQY7Xl3G8Zp2r.png)"
   ]
  }
 ],
 "metadata": {
  "kernelspec": {
   "display_name": "Python 3",
   "language": "python",
   "name": "python3"
  },
  "language_info": {
   "codemirror_mode": {
    "name": "ipython",
    "version": 3
   },
   "file_extension": ".py",
   "mimetype": "text/x-python",
   "name": "python",
   "nbconvert_exporter": "python",
   "pygments_lexer": "ipython3",
   "version": "3.7.6"
  },
  "toc": {
   "base_numbering": 1,
   "nav_menu": {},
   "number_sections": true,
   "sideBar": true,
   "skip_h1_title": false,
   "title_cell": "Table of Contents",
   "title_sidebar": "Contents",
   "toc_cell": false,
   "toc_position": {},
   "toc_section_display": true,
   "toc_window_display": true
  },
  "varInspector": {
   "cols": {
    "lenName": 16,
    "lenType": 16,
    "lenVar": 40
   },
   "kernels_config": {
    "python": {
     "delete_cmd_postfix": "",
     "delete_cmd_prefix": "del ",
     "library": "var_list.py",
     "varRefreshCmd": "print(var_dic_list())"
    },
    "r": {
     "delete_cmd_postfix": ") ",
     "delete_cmd_prefix": "rm(",
     "library": "var_list.r",
     "varRefreshCmd": "cat(var_dic_list()) "
    }
   },
   "types_to_exclude": [
    "module",
    "function",
    "builtin_function_or_method",
    "instance",
    "_Feature"
   ],
   "window_display": false
  }
 },
 "nbformat": 4,
 "nbformat_minor": 4
}

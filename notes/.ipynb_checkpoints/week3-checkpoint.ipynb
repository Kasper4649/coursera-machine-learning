{
 "cells": [
  {
   "cell_type": "markdown",
   "metadata": {},
   "source": [
    "# Classification and Representation"
   ]
  },
  {
   "cell_type": "markdown",
   "metadata": {},
   "source": [
    "## Classification"
   ]
  },
  {
   "cell_type": "markdown",
   "metadata": {},
   "source": [
    "To attempt classification, one method is to use linear regression and map all predictions greater than 0.5 as a 1 and all less than 0.5 as a 0. However, this method doesn't work well because classification is not actually a linear function. "
   ]
  },
  {
   "cell_type": "markdown",
   "metadata": {},
   "source": [
    "The classification problem is just like the regression problem, except that the values we now want to predict take on only a small number of discrete values. For now, we will focus on the binary classification problem in which y can take on only two values, 0 and 1. (Most of what we say here will also generalize to the multiple-class case.) For instance, if we are trying to build a spam classifier for email, then $x^{(i)}$ may be some features of a piece of email, and y may be 1 if it is a piece of spam mail, and 0 otherwise. Hence, $\\textbf{y∈{0,1}}$. 0 is also called the negative class, and 1 the positive class, and they are sometimes also denoted by the symbols “-” and “+.” Given $x^{(i)}$ , the corresponding $y^{(i)}$ is also called the label for the training example."
   ]
  },
  {
   "cell_type": "markdown",
   "metadata": {
    "ExecuteTime": {
     "end_time": "2020-01-12T08:22:35.750253Z",
     "start_time": "2020-01-12T08:22:35.747237Z"
    }
   },
   "source": [
    "## Hypothesis Representation"
   ]
  },
  {
   "cell_type": "markdown",
   "metadata": {},
   "source": [
    "We could approach the classification problem ignoring the fact that y is discrete-valued, and use our old linear regression algorithm to try to predict y given x. However, it is easy to construct examples where this method performs very poorly. Intuitively, it also doesn’t make sense for $h_\\theta (x)$ to take values larger than 1 or smaller than 0 when we know that y ∈ {0, 1}. To fix this, let’s change the form for our hypotheses $h_\\theta (x)$ to satisfy $0 \\leq h_\\theta (x) \\leq 1$. This is accomplished by plugging $\\theta^Tx$ into the Logistic Function."
   ]
  },
  {
   "cell_type": "markdown",
   "metadata": {},
   "source": [
    "Our new form uses the \"Sigmoid Function,\" also called the \"Logistic Function\":  \n",
    "$h_{\\theta}(x)=g\\left(\\theta^{T} x\\right)\\\\\n",
    "z=\\theta^{T} x\\\\\n",
    "g(z)=\\frac{1}{1+e^{-z}}$"
   ]
  },
  {
   "cell_type": "markdown",
   "metadata": {},
   "source": [
    "The following image shows us what the sigmoid function looks like:\n",
    "![image.png](https://i.loli.net/2020/02/26/9Rkw2WPmH6Ss5zq.png)"
   ]
  },
  {
   "cell_type": "markdown",
   "metadata": {},
   "source": [
    "The function g(z), shown here, maps any real number to the (0, 1) interval, making it useful for transforming an arbitrary-valued function into a function better suited for classification.  "
   ]
  },
  {
   "cell_type": "markdown",
   "metadata": {},
   "source": [
    "$h_\\theta (x)$ will give us the probability that our output is 1. For example, $h_\\theta(x)=0.7$ gives us a probability of 70% that our output is 1. Our probability that our prediction is 0 is just the complement of our probability that it is 1 (e.g. if probability that it is 1 is 70%, then the probability that it is 0 is 30%).  \n",
    "$h_{\\theta}(x)=P(y=1 | x ; \\theta)=1-P(y=0 | x ; \\theta)\\\\\n",
    "P(y=0 | x ; \\theta)+P(y=1 | x ; \\theta)=1$"
   ]
  },
  {
   "cell_type": "markdown",
   "metadata": {},
   "source": [
    "## Decision Boundary"
   ]
  },
  {
   "cell_type": "markdown",
   "metadata": {},
   "source": [
    "In order to get our discrete 0 or 1 classification, we can translate the output of the hypothesis function as follows:  \n",
    "$h_{\\theta}(x) \\geq 0.5 \\rightarrow y=1\\\\\n",
    "h_{\\theta}(x)<0.5 \\rightarrow y=0$"
   ]
  },
  {
   "cell_type": "markdown",
   "metadata": {
    "ExecuteTime": {
     "end_time": "2020-01-12T09:17:14.201189Z",
     "start_time": "2020-01-12T09:17:14.196764Z"
    }
   },
   "source": [
    "The way our logistic function g behaves is that when its input is greater than or equal to zero, its output is greater than or equal to 0.5:  \n",
    "$g(z) \\geq 0.5\\\\\n",
    "when\\ z \\geq 0$"
   ]
  },
  {
   "cell_type": "markdown",
   "metadata": {},
   "source": [
    "Remember.  \n",
    "$z=0, e^{0}=1 \\Rightarrow g(z)= 1 / 2\\\\\n",
    "z \\rightarrow \\infty, e^{-\\infty} \\rightarrow 0 \\Rightarrow g(z)=1\\\\ \n",
    "z \\rightarrow-\\infty, e^{\\infty} \\rightarrow \\infty \\Rightarrow g(z)=0$"
   ]
  },
  {
   "cell_type": "markdown",
   "metadata": {},
   "source": [
    "So if our input to g is $\\theta^T X$, then that means:  \n",
    "$h_{\\theta}(x)=g\\left(\\theta^{T} x\\right) \\geq 0.5\\\\\n",
    "when\\ \\theta^{T} x \\geq 0$"
   ]
  },
  {
   "cell_type": "markdown",
   "metadata": {},
   "source": [
    "From these statements we can now say:  \n",
    "$\\theta^{T} x \\geq 0 \\Rightarrow y=1\\\\\n",
    "\\theta^{T} x<0 \\Rightarrow y=0$"
   ]
  },
  {
   "cell_type": "markdown",
   "metadata": {},
   "source": [
    "The decision boundary is the line that separates the area where y = 0 and where y = 1. It is created by our hypothesis function."
   ]
  },
  {
   "cell_type": "markdown",
   "metadata": {},
   "source": [
    "Example:  \n",
    "$\\theta=\\left[\\begin{array}{c}{5} \\\\ {-1} \\\\ {0}\\end{array}\\right]\\\\\n",
    "y=1 \\ if \\ 5+(-1) x_{1}+0 x_{2} \\geq 0\\\\\n",
    "5-x_{1} \\geq 0\\\\\n",
    "-x_{1} \\geq-5\\\\\n",
    "x_{1} \\leq 5$"
   ]
  },
  {
   "cell_type": "markdown",
   "metadata": {},
   "source": [
    "In this case, our decision boundary is a straight vertical line placed on the graph where $x_1 = 5$ and everything to the left of that denotes y = 1, while everything to the right denotes y = 0."
   ]
  },
  {
   "cell_type": "markdown",
   "metadata": {},
   "source": [
    "Again, the input to the sigmoid function g(z) (e.g. $\\theta^T X$ doesn't need to be linear, and could be a function that describes a circle (e.g. $z = \\theta_0 + \\theta_1 x_1^2 +\\theta_2 x_2^2z=θ$ or any shape to fit our data."
   ]
  },
  {
   "cell_type": "markdown",
   "metadata": {},
   "source": [
    "# Logistic Regression Model"
   ]
  },
  {
   "cell_type": "markdown",
   "metadata": {},
   "source": [
    "## Cost Function"
   ]
  },
  {
   "cell_type": "markdown",
   "metadata": {},
   "source": [
    "We cannot use the same cost function that we use for linear regression because the Logistic Function will cause the output to be wavy, causing many local optima. In other words, it will not be a convex function."
   ]
  },
  {
   "cell_type": "markdown",
   "metadata": {},
   "source": [
    "Instead, our cost function for logistic regression looks like:  \n",
    "$\\begin{array}{ll}{J(\\theta)=\\frac{1}{m} \\sum_{i=1}^{m} \\operatorname{cost}\\left(h_{\\theta}\\left(x^{(i)}\\right), y^{(i)}\\right)} & {} \\\\ {\\operatorname{cost}\\left(h_{\\theta}(x), y\\right)=-\\log \\left(h_{\\theta}(x)\\right)} & {\\text { if } y=1} \\\\ {\\operatorname{cost}\\left(h_{\\theta}(x), y\\right)=-\\log \\left(1-h_{\\theta}(x)\\right)} & {\\text { if } y=0}\\end{array}$"
   ]
  },
  {
   "cell_type": "markdown",
   "metadata": {},
   "source": [
    "When y = 1, we get the following plot for $J(\\theta)$ vs $h_\\theta (x)$:  \n",
    "![image.png](https://i.loli.net/2020/02/26/ZufAQU69mvkHICF.png)\n",
    "Similarly, when y = 0, we get the following plot for $J(\\theta)$ vs $h_\\theta (x)$:  \n",
    "![image.png](https://i.loli.net/2020/02/26/XsqyHQK8b61xfn7.png)"
   ]
  },
  {
   "cell_type": "markdown",
   "metadata": {},
   "source": [
    "$\\operatorname{cost}\\left(h_{\\theta}(x), y\\right)=0$ if $h_{\\theta}(x)=y$  \n",
    "$\\operatorname{cost}\\left(h_{\\theta}(x), y\\right) \\rightarrow \\infty$ if $y=0$ and $h_{\\theta}(x) \\rightarrow 1$  \n",
    "$\\operatorname{cost}\\left(h_{\\theta}(x), y\\right) \\rightarrow \\infty$ if $y=1$ and $h_{\\theta}(x) \\rightarrow 0$"
   ]
  },
  {
   "cell_type": "markdown",
   "metadata": {},
   "source": [
    "If our correct answer 'y' is 0, then the cost function will be 0 if our hypothesis function also outputs 0. If our hypothesis approaches 1, then the cost function will approach infinity."
   ]
  },
  {
   "cell_type": "markdown",
   "metadata": {},
   "source": [
    "If our correct answer 'y' is 1, then the cost function will be 0 if our hypothesis function outputs 1. If our hypothesis approaches 0, then the cost function will approach infinity."
   ]
  },
  {
   "cell_type": "markdown",
   "metadata": {},
   "source": [
    "Note that writing the cost function in this way guarantees that J(θ) is convex for logistic regression."
   ]
  },
  {
   "cell_type": "markdown",
   "metadata": {},
   "source": [
    "## Simplified Cost Function and Gradient Descent"
   ]
  },
  {
   "cell_type": "markdown",
   "metadata": {},
   "source": [
    "We can compress our cost function's two conditional cases into one case:  \n",
    "$\\operatorname{cost}\\left(h_{\\theta}(x), y\\right)=-y \\log \\left(h_{\\theta}(x)\\right)-(1-y) \\log \\left(1-h_{\\theta}(x)\\right)$"
   ]
  },
  {
   "cell_type": "markdown",
   "metadata": {},
   "source": [
    "Notice that when y is equal to 1, then the second term $(1-y)\\log(1-h_\\theta(x))$ will be zero and will not affect the result. If y is equal to 0, then the first term $-y \\log(h_\\theta(x))$ will be zero and will not affect the result."
   ]
  },
  {
   "cell_type": "markdown",
   "metadata": {},
   "source": [
    "We can fully write out our entire cost function as follows:  \n",
    "$J(\\theta)=-\\frac{1}{m} \\sum_{i=1}^{m}\\left[y^{(i)} \\log \\left(h_{\\theta}\\left(x^{(i)}\\right)\\right)+\\left(1-y^{(i)}\\right) \\log \\left(1-h_{\\theta}\\left(x^{(i)}\\right)\\right)\\right]$"
   ]
  },
  {
   "cell_type": "markdown",
   "metadata": {},
   "source": [
    "A vectorized implementation is:  \n",
    "$h=g(X \\theta)\\\\\n",
    "J(\\theta)=\\frac{1}{m} \\cdot\\left(-y^{T} \\log (h)-(1-y)^{T} \\log (1-h)\\right)$"
   ]
  },
  {
   "cell_type": "markdown",
   "metadata": {},
   "source": [
    "### Gradient Descent\n",
    "Remember that the general form of gradient descent is:  \n",
    "$Repeat \\{ \\\\ \n",
    "\\theta_{j}:=\\theta_{j}-\\alpha \\frac{\\partial}{\\partial \\theta_{j}} J(\\theta)\\\\\n",
    "\\}$"
   ]
  },
  {
   "cell_type": "markdown",
   "metadata": {},
   "source": [
    "We can work out the derivative part using calculus to get:  \n",
    "$Repeat \\{ \\\\\n",
    "\\theta_{j}:=\\theta_{j}-\\frac{\\alpha}{m} \\sum_{i=1}^{m}\\left(h_{\\theta}\\left(x^{(i)}\\right)-y^{(i)}\\right) x_{j}^{(i)}\\\\\n",
    "\\}$"
   ]
  },
  {
   "cell_type": "markdown",
   "metadata": {},
   "source": [
    "Notice that this algorithm is identical to the one we used in linear regression. We still have to simultaneously update all values in theta."
   ]
  },
  {
   "cell_type": "markdown",
   "metadata": {},
   "source": [
    "A vectorized implementation is:  \n",
    "$\\theta:=\\theta-\\frac{\\alpha}{m} X^{T}(g(X \\theta)-\\vec{y})$"
   ]
  },
  {
   "cell_type": "markdown",
   "metadata": {},
   "source": [
    "## Advanced Optimization"
   ]
  },
  {
   "cell_type": "markdown",
   "metadata": {},
   "source": [
    "# Multiclass Classification: One-vs-all"
   ]
  },
  {
   "cell_type": "markdown",
   "metadata": {
    "ExecuteTime": {
     "end_time": "2020-01-12T14:26:30.417618Z",
     "start_time": "2020-01-12T14:26:30.414151Z"
    }
   },
   "source": [
    "Now we will approach the classification of data when we have more than two categories. Instead of y = {0,1} we will expand our definition so that y = {0,1...n}."
   ]
  },
  {
   "cell_type": "markdown",
   "metadata": {},
   "source": [
    "Since y = {0,1...n}, we divide our problem into n+1 (+1 because the index starts at 0) binary classification problems; in each one, we predict the probability that 'y' is a member of one of our classes."
   ]
  },
  {
   "cell_type": "code",
   "execution_count": 1,
   "metadata": {
    "ExecuteTime": {
     "end_time": "2020-01-12T01:48:57.009315Z",
     "start_time": "2020-01-12T01:48:56.519921Z"
    }
   },
   "outputs": [],
   "source": [
    "import numpy as np\n",
    "import pandas as pd\n",
    "import matplotlib.pyplot as plt\n",
    "%matplotlib inline"
   ]
  },
  {
   "cell_type": "code",
   "execution_count": 2,
   "metadata": {
    "ExecuteTime": {
     "end_time": "2020-01-12T01:48:57.633144Z",
     "start_time": "2020-01-12T01:48:57.613198Z"
    }
   },
   "outputs": [
    {
     "data": {
      "text/html": [
       "<div>\n",
       "<style scoped>\n",
       "    .dataframe tbody tr th:only-of-type {\n",
       "        vertical-align: middle;\n",
       "    }\n",
       "\n",
       "    .dataframe tbody tr th {\n",
       "        vertical-align: top;\n",
       "    }\n",
       "\n",
       "    .dataframe thead th {\n",
       "        text-align: right;\n",
       "    }\n",
       "</style>\n",
       "<table border=\"1\" class=\"dataframe\">\n",
       "  <thead>\n",
       "    <tr style=\"text-align: right;\">\n",
       "      <th></th>\n",
       "      <th>Exam 1</th>\n",
       "      <th>Exam 2</th>\n",
       "      <th>Admitted</th>\n",
       "    </tr>\n",
       "  </thead>\n",
       "  <tbody>\n",
       "    <tr>\n",
       "      <th>0</th>\n",
       "      <td>34.623660</td>\n",
       "      <td>78.024693</td>\n",
       "      <td>0</td>\n",
       "    </tr>\n",
       "    <tr>\n",
       "      <th>1</th>\n",
       "      <td>30.286711</td>\n",
       "      <td>43.894998</td>\n",
       "      <td>0</td>\n",
       "    </tr>\n",
       "    <tr>\n",
       "      <th>2</th>\n",
       "      <td>35.847409</td>\n",
       "      <td>72.902198</td>\n",
       "      <td>0</td>\n",
       "    </tr>\n",
       "    <tr>\n",
       "      <th>3</th>\n",
       "      <td>60.182599</td>\n",
       "      <td>86.308552</td>\n",
       "      <td>1</td>\n",
       "    </tr>\n",
       "    <tr>\n",
       "      <th>4</th>\n",
       "      <td>79.032736</td>\n",
       "      <td>75.344376</td>\n",
       "      <td>1</td>\n",
       "    </tr>\n",
       "  </tbody>\n",
       "</table>\n",
       "</div>"
      ],
      "text/plain": [
       "      Exam 1     Exam 2  Admitted\n",
       "0  34.623660  78.024693         0\n",
       "1  30.286711  43.894998         0\n",
       "2  35.847409  72.902198         0\n",
       "3  60.182599  86.308552         1\n",
       "4  79.032736  75.344376         1"
      ]
     },
     "execution_count": 2,
     "metadata": {},
     "output_type": "execute_result"
    }
   ],
   "source": [
    "data1 = pd.read_csv('ex2data1.txt', header=None, names=['Exam 1', 'Exam 2', 'Admitted'])\n",
    "data1.head()"
   ]
  },
  {
   "cell_type": "code",
   "execution_count": 3,
   "metadata": {
    "ExecuteTime": {
     "end_time": "2020-01-12T01:48:58.901295Z",
     "start_time": "2020-01-12T01:48:58.704825Z"
    }
   },
   "outputs": [
    {
     "data": {
      "text/plain": [
       "Text(0, 0.5, 'Exam 2 Score')"
      ]
     },
     "execution_count": 3,
     "metadata": {},
     "output_type": "execute_result"
    },
    {
     "data": {
      "image/png": "[encoded data removed]",
      "text/plain": [
       "<Figure size 432x288 with 1 Axes>"
      ]
     },
     "metadata": {
      "needs_background": "light"
     },
     "output_type": "display_data"
    }
   ],
   "source": [
    "positive = data1[data1['Admitted'].isin([1])]\n",
    "negative = data1[data1['Admitted'].isin([0])]\n",
    "\n",
    "fig, ax = plt.subplots()\n",
    "ax.scatter(positive['Exam 1'], positive['Exam 2'], s=50, c='b', marker='o', label='Admitted')\n",
    "ax.scatter(negative['Exam 1'], negative['Exam 2'], s=50, c='r', marker='x', label='Not Admitted')\n",
    "ax.legend()\n",
    "ax.set_xlabel('Exam 1 Score')\n",
    "ax.set_ylabel('Exam 2 Score')"
   ]
  },
  {
   "cell_type": "code",
   "execution_count": 4,
   "metadata": {
    "ExecuteTime": {
     "end_time": "2020-01-12T01:49:13.827089Z",
     "start_time": "2020-01-12T01:49:13.823017Z"
    }
   },
   "outputs": [],
   "source": [
    "def sigmoid(z):\n",
    "    return 1 / (1 + np.exp(-z))"
   ]
  },
  {
   "cell_type": "code",
   "execution_count": 20,
   "metadata": {
    "ExecuteTime": {
     "end_time": "2020-01-12T02:11:20.976028Z",
     "start_time": "2020-01-12T02:11:20.971040Z"
    }
   },
   "outputs": [],
   "source": [
    "def compute_cost(X, y, theta):\n",
    "    h = sigmoid(np.dot(X, theta.T))\n",
    "    first = np.multiply(-y, np.log(h))\n",
    "    second = np.multiply((1 - y), np.log(1 - h))\n",
    "    return np.sum(first - second) / len(X)"
   ]
  },
  {
   "cell_type": "code",
   "execution_count": 14,
   "metadata": {
    "ExecuteTime": {
     "end_time": "2020-01-12T01:53:04.838845Z",
     "start_time": "2020-01-12T01:53:04.832827Z"
    }
   },
   "outputs": [],
   "source": [
    "data1.insert(0, 'Ones', 1)"
   ]
  },
  {
   "cell_type": "code",
   "execution_count": 15,
   "metadata": {
    "ExecuteTime": {
     "end_time": "2020-01-12T01:53:05.509081Z",
     "start_time": "2020-01-12T01:53:05.503054Z"
    }
   },
   "outputs": [],
   "source": [
    "X = data1.loc[:, ['Ones', 'Exam 1', 'Exam 2']].values\n",
    "y = data1.loc[:, ['Admitted']].values\n",
    "theta = np.zeros(3)"
   ]
  },
  {
   "cell_type": "code",
   "execution_count": 19,
   "metadata": {
    "ExecuteTime": {
     "end_time": "2020-01-12T01:54:31.945367Z",
     "start_time": "2020-01-12T01:54:31.941352Z"
    }
   },
   "outputs": [
    {
     "data": {
      "text/plain": [
       "((100, 3), (100, 1), (3,))"
      ]
     },
     "execution_count": 19,
     "metadata": {},
     "output_type": "execute_result"
    }
   ],
   "source": [
    "X.shape, y.shape, theta.shape"
   ]
  },
  {
   "cell_type": "code",
   "execution_count": 21,
   "metadata": {
    "ExecuteTime": {
     "end_time": "2020-01-12T02:11:23.909347Z",
     "start_time": "2020-01-12T02:11:23.903323Z"
    }
   },
   "outputs": [
    {
     "data": {
      "text/plain": [
       "69.31471805599453"
      ]
     },
     "execution_count": 21,
     "metadata": {},
     "output_type": "execute_result"
    }
   ],
   "source": [
    "compute_cost(X, y, theta)"
   ]
  }
 ],
 "metadata": {
  "kernelspec": {
   "display_name": "Python 3",
   "language": "python",
   "name": "python3"
  },
  "language_info": {
   "codemirror_mode": {
    "name": "ipython",
    "version": 3
   },
   "file_extension": ".py",
   "mimetype": "text/x-python",
   "name": "python",
   "nbconvert_exporter": "python",
   "pygments_lexer": "ipython3",
   "version": "3.7.6"
  },
  "toc": {
   "base_numbering": 1,
   "nav_menu": {},
   "number_sections": true,
   "sideBar": true,
   "skip_h1_title": false,
   "title_cell": "Table of Contents",
   "title_sidebar": "Contents",
   "toc_cell": false,
   "toc_position": {
    "height": "calc(100% - 180px)",
    "left": "10px",
    "top": "150px",
    "width": "307.2px"
   },
   "toc_section_display": true,
   "toc_window_display": false
  },
  "varInspector": {
   "cols": {
    "lenName": 16,
    "lenType": 16,
    "lenVar": 40
   },
   "kernels_config": {
    "python": {
     "delete_cmd_postfix": "",
     "delete_cmd_prefix": "del ",
     "library": "var_list.py",
     "varRefreshCmd": "print(var_dic_list())"
    },
    "r": {
     "delete_cmd_postfix": ") ",
     "delete_cmd_prefix": "rm(",
     "library": "var_list.r",
     "varRefreshCmd": "cat(var_dic_list()) "
    }
   },
   "types_to_exclude": [
    "module",
    "function",
    "builtin_function_or_method",
    "instance",
    "_Feature"
   ],
   "window_display": false
  }
 },
 "nbformat": 4,
 "nbformat_minor": 2
}

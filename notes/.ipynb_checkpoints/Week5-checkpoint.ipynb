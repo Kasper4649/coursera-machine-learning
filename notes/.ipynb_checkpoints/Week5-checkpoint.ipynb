{
 "cells": [
  {
   "cell_type": "markdown",
   "metadata": {},
   "source": [
    "# Cost Function"
   ]
  },
  {
   "cell_type": "markdown",
   "metadata": {},
   "source": [
    "## Cost Function and Backpropagation"
   ]
  },
  {
   "cell_type": "markdown",
   "metadata": {},
   "source": [
    "### Cost Function"
   ]
  },
  {
   "cell_type": "markdown",
   "metadata": {},
   "source": [
    "L = total number of layers in the network  \n",
    "$s_l$ = number of units (**not counting bias unit**) in layer l  \n",
    "K = number of output units/classes"
   ]
  },
  {
   "cell_type": "markdown",
   "metadata": {},
   "source": [
    "![image.png](https://i.loli.net/2020/03/01/6BteYA3CuSDsXRM.png)"
   ]
  },
  {
   "cell_type": "markdown",
   "metadata": {},
   "source": [
    "We denote $h_{\\Theta}(x)_{k}$ as being a hypothesis that results in the $k^{th}$ output. Our cost function for neural networks is going to be a generalization of the one we used for logistic regression:"
   ]
  },
  {
   "cell_type": "markdown",
   "metadata": {},
   "source": [
    "$J(\\Theta)=-\\frac{1}{m} \\sum_{i=1}^{m} \\sum_{k-1}^{K}\\left[y_{k}^{(i)} \\log \\left(\\left(h_{\\Theta}\\left(x^{(i)}\\right)\\right)_{k}\\right)+\\left(1-y_{k}^{(i)}\\right) \\log \\left(1-\\left(h_{\\Theta}\\left(x^{(i)}\\right)\\right)_{k}\\right)\\right]+\\frac{\\lambda}{2 m} \\sum_{l=1}^{L-1} \\sum_{i=1}^{s_{l}} \\sum_{j=1}^{s_{l+1}}\\left(\\Theta_{j, i}^{(l)}\\right)^{2}$"
   ]
  },
  {
   "cell_type": "markdown",
   "metadata": {},
   "source": [
    "Note:\n",
    "- the double sum simply adds up the logistic regression costs calculated for each cell in the output layer\n",
    "- the triple sum simply adds up the squares of all the individual Θs in the entire network.\n",
    "- the i in the triple sum does **not** refer to training example i"
   ]
  },
  {
   "cell_type": "markdown",
   "metadata": {},
   "source": [
    "### Backpropagation Algorithm"
   ]
  },
  {
   "cell_type": "markdown",
   "metadata": {},
   "source": [
    "\"Backpropagation\" is neural-network terminology for minimizing our cost function, just like what we were doing with gradient descent in logistic and linear regression."
   ]
  },
  {
   "cell_type": "markdown",
   "metadata": {},
   "source": [
    "![image.png](https://i.loli.net/2020/03/01/9mrCgqwX46W5ayc.png)"
   ]
  },
  {
   "cell_type": "markdown",
   "metadata": {},
   "source": [
    "$D_{i, j}^{(l)}:=\\frac{1}{m}\\left(\\Delta_{i, j}^{(l)}+\\lambda \\Theta_{i, j}^{(l)}\\right), if j \\neq 0 \\\\\n",
    "D_{i, j}^{(l)}:=\\frac{1}{m} \\Delta_{i, j}^{(l)} , if j=0$"
   ]
  },
  {
   "cell_type": "markdown",
   "metadata": {},
   "source": [
    "$l$ 代表目前所计算的是第几层。  \n",
    "$j$ 代表目前计算层中的激活单元的下标，也将是下一层的第$j$个输入变量的下标。  \n",
    "$i$ 代表下一层中误差单元的下标，是受到权重矩阵中第$i$行影响的下一层中的误差单元的下标。"
   ]
  },
  {
   "cell_type": "markdown",
   "metadata": {},
   "source": [
    "The capital-delta matrix D is used as an \"accumulator\" to add up our values as we go along and eventually compute our partial derivative. Thus we get $\\frac{\\partial}{\\partial \\Theta_{i j}^{(l)}} J(\\Theta)=D_{i j}^{(l)}$"
   ]
  },
  {
   "cell_type": "markdown",
   "metadata": {},
   "source": [
    "### Backpropagation Intuition"
   ]
  },
  {
   "cell_type": "markdown",
   "metadata": {},
   "source": [
    "![image.png](https://i.loli.net/2020/03/01/tF6fm2r3HnqLWiT.png)"
   ]
  },
  {
   "cell_type": "markdown",
   "metadata": {},
   "source": [
    "In the image above, to calculate $\\delta_{2}^{(2)},$ we multiply the weights $\\Theta_{12}^{(2)}$ and $\\Theta_{22}^{(2)}$ by their respective $\\delta$ values found to the right of each edge. So we get $\\delta_{2}^{(2)}=\\Theta_{12}^{(2)} * \\delta_{1}^{(3)}+\\Theta_{22}^{(2)} * \\delta_{2}^{(3)} .$ To calculate every single possible $\\delta_{j}^{(l)},$ we could start from the right of our diagram. We can think of our edges as our $\\Theta_{i j} .$ Going from right to left, to calculate the value of $\\delta_{j}^{(i)},$ you can just take the over all sum of each weight times the $\\delta$ it is coming from. Hence, another example would be $\\delta_{2}^{(3)}=\\Theta_{12}^{(3)} * \\delta_{1}^{(4)}$"
   ]
  },
  {
   "cell_type": "markdown",
   "metadata": {},
   "source": [
    "## Backpropagation and Practice"
   ]
  },
  {
   "cell_type": "markdown",
   "metadata": {},
   "source": [
    "### Implementation Note: Unrolling Parameters"
   ]
  },
  {
   "cell_type": "markdown",
   "metadata": {},
   "source": [
    "![image.png](https://i.loli.net/2020/03/01/la6UQBDtJs471OM.png)"
   ]
  },
  {
   "cell_type": "markdown",
   "metadata": {},
   "source": [
    "### Gradient Checking"
   ]
  },
  {
   "cell_type": "markdown",
   "metadata": {},
   "source": [
    "Gradient checking will assure that our backpropagation works as intended. We can approximate the derivative of our cost function with: "
   ]
  },
  {
   "cell_type": "markdown",
   "metadata": {},
   "source": [
    "$\\frac{\\partial}{\\partial \\Theta} J(\\Theta) \\approx \\frac{J(\\Theta+\\epsilon)-J(\\Theta-\\epsilon)}{2 \\epsilon}$"
   ]
  },
  {
   "cell_type": "markdown",
   "metadata": {},
   "source": [
    "With multiple theta matrices, we can approximate the derivative with respect to $\\Theta_j$ as follows:"
   ]
  },
  {
   "cell_type": "markdown",
   "metadata": {},
   "source": [
    "$\\frac{\\partial}{\\partial \\Theta_{j}} J(\\Theta) \\approx \\frac{J\\left(\\Theta_{1}, \\ldots, \\Theta_{j}+\\epsilon, \\ldots, \\Theta_{n}\\right)-J\\left(\\Theta_{1}, \\ldots, \\Theta_{j}-\\epsilon, \\ldots, \\Theta_{n}\\right)}{2 \\epsilon}$"
   ]
  },
  {
   "cell_type": "markdown",
   "metadata": {},
   "source": [
    "A small value for $\\epsilon$ (epsilon) such as $\\epsilon=10^{-4}$, guarantees that the math works out properly. If the value for ϵ is too small, we can end up with numerical problems."
   ]
  },
  {
   "cell_type": "markdown",
   "metadata": {},
   "source": [
    "![image.png](https://i.loli.net/2020/03/01/rkvupRXyCD2LdeU.png)"
   ]
  },
  {
   "cell_type": "markdown",
   "metadata": {},
   "source": [
    "Once you have verified **once** that your backpropagation algorithm is correct, you don't need to compute gradApprox again. The code to compute gradApprox can be very slow."
   ]
  },
  {
   "cell_type": "markdown",
   "metadata": {},
   "source": [
    "### Random Initialization"
   ]
  },
  {
   "cell_type": "markdown",
   "metadata": {},
   "source": [
    "Initializing all theta weights to zero does not work with neural networks. When we backpropagate, all nodes will update to the same value repeatedly. Instead we can randomly initialize our weights for our $\\Theta$ matrices using the following method:"
   ]
  },
  {
   "cell_type": "markdown",
   "metadata": {},
   "source": [
    "![image.png](https://i.loli.net/2020/03/01/xmCwNopjERdZtIk.png)"
   ]
  },
  {
   "cell_type": "markdown",
   "metadata": {},
   "source": [
    "Hence, we initialize each $\\Theta_{i j}^{(l)}$ to a random value between $[-\\epsilon, \\epsilon] .$ Using the above formula guarantees that we get the desired bound. The same procedure applies to all the $\\Theta$'s. Below is some working code you could use to experiment."
   ]
  },
  {
   "cell_type": "markdown",
   "metadata": {},
   "source": [
    ">Note: the epsilon used above is unrelated to the epsilon from Gradient Checking"
   ]
  },
  {
   "cell_type": "markdown",
   "metadata": {},
   "source": [
    "### Putting it Together"
   ]
  },
  {
   "cell_type": "markdown",
   "metadata": {},
   "source": [
    "First, pick a network architecture; choose the layout of your neural network, including how many hidden units in each layer and how many layers in total you want to have."
   ]
  },
  {
   "cell_type": "markdown",
   "metadata": {},
   "source": [
    "- Number of input units = dimension of features $x^{(i)}$\n",
    "- Number of output units = number of classes\n",
    "- Number of hidden units per layer = usually more the better (must balance with cost of computation as it increases with more hidden units)\n",
    "- Defaults: 1 hidden layer. If you have more than 1 hidden layer, then it is recommended that you have the same number of units in every hidden layer."
   ]
  },
  {
   "cell_type": "markdown",
   "metadata": {},
   "source": [
    "#### Training a Neural Network"
   ]
  },
  {
   "cell_type": "markdown",
   "metadata": {},
   "source": [
    "1. Randomly initialize the weights\n",
    "2. Implement forward propagation to get $h_{\\Theta}\\left(x^{(i)}\\right)$ for any $x^{(i)}$\n",
    "3. Implement the cost function\n",
    "4. Implement backpropagation to compute partial derivatives\n",
    "5. Use gradient checking to confirm that your backpropagation works. Then disable gradient checking.\n",
    "6. Use gradient descent or a built-in optimization function to minimize the cost function with the weights in theta."
   ]
  },
  {
   "cell_type": "markdown",
   "metadata": {},
   "source": [
    "The following image gives us an intuition of what is happening as we are implementing our neural network:\n",
    "![](https://d3c33hcgiwev3.cloudfront.net/imageAssetProxy.v1/hGk18LsaEea7TQ6MHcgMPA_8de173808f362583eb39cdd0c89ef43e_Screen-Shot-2016-12-05-at-10.40.35-AM.png?expiry=1579824000000&hmac=6ntXAW0gBobLIEQUDoaT6emueXFQ5OMaNf5MjGV-csM)"
   ]
  }
 ],
 "metadata": {
  "kernelspec": {
   "display_name": "Python 3",
   "language": "python",
   "name": "python3"
  },
  "language_info": {
   "codemirror_mode": {
    "name": "ipython",
    "version": 3
   },
   "file_extension": ".py",
   "mimetype": "text/x-python",
   "name": "python",
   "nbconvert_exporter": "python",
   "pygments_lexer": "ipython3",
   "version": "3.7.6"
  },
  "toc": {
   "base_numbering": 1,
   "nav_menu": {},
   "number_sections": true,
   "sideBar": true,
   "skip_h1_title": false,
   "title_cell": "Table of Contents",
   "title_sidebar": "Contents",
   "toc_cell": false,
   "toc_position": {},
   "toc_section_display": true,
   "toc_window_display": true
  },
  "varInspector": {
   "cols": {
    "lenName": 16,
    "lenType": 16,
    "lenVar": 40
   },
   "kernels_config": {
    "python": {
     "delete_cmd_postfix": "",
     "delete_cmd_prefix": "del ",
     "library": "var_list.py",
     "varRefreshCmd": "print(var_dic_list())"
    },
    "r": {
     "delete_cmd_postfix": ") ",
     "delete_cmd_prefix": "rm(",
     "library": "var_list.r",
     "varRefreshCmd": "cat(var_dic_list()) "
    }
   },
   "types_to_exclude": [
    "module",
    "function",
    "builtin_function_or_method",
    "instance",
    "_Feature"
   ],
   "window_display": false
  }
 },
 "nbformat": 4,
 "nbformat_minor": 2
}
